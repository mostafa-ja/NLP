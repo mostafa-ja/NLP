{
  "nbformat": 4,
  "nbformat_minor": 0,
  "metadata": {
    "colab": {
      "provenance": [],
      "collapsed_sections": [],
      "authorship_tag": "ABX9TyOeZTKih8YUlXNoQ5Qjy2nR",
      "include_colab_link": true
    },
    "kernelspec": {
      "name": "python3",
      "display_name": "Python 3"
    },
    "language_info": {
      "name": "python"
    }
  },
  "cells": [
    {
      "cell_type": "markdown",
      "metadata": {
        "id": "view-in-github",
        "colab_type": "text"
      },
      "source": [
        "<a href=\"https://colab.research.google.com/github/mostafa-ja/NLP/blob/main/locality_sensitive_hashing.ipynb\" target=\"_parent\"><img src=\"https://colab.research.google.com/assets/colab-badge.svg\" alt=\"Open In Colab\"/></a>"
      ]
    },
    {
      "cell_type": "code",
      "execution_count": 189,
      "metadata": {
        "id": "YEOc4FLm7bQf"
      },
      "outputs": [],
      "source": [
        "import numpy as np\n",
        "import matplotlib.pyplot as plt\n"
      ]
    },
    {
      "cell_type": "code",
      "source": [
        "def cosine_similarity(A, b):\n",
        "    '''\n",
        "    Input:\n",
        "        A: a numpy array which corresponds to a word vector\n",
        "        B: A numpy array which corresponds to a word vector\n",
        "    Output:\n",
        "        cos: numerical number representing the cosine similarity between A and B.\n",
        "    '''\n",
        "    # you have to set this variable to the true label.\n",
        "    dot = np.dot(A, b)\n",
        "    norma = np.linalg.norm(A,axis=1)\n",
        "    normb = np.linalg.norm(b)\n",
        "    cos = dot / (norma * normb)\n",
        "\n",
        "    return cos"
      ],
      "metadata": {
        "id": "wdrbl4W08fNo"
      },
      "execution_count": 190,
      "outputs": []
    },
    {
      "cell_type": "code",
      "source": [
        "np.random.seed(0)\n",
        "A = np.random.randn(100,2)\n",
        "b=np.array([2,-0.9])\n",
        "plt.scatter(A[:,0],A[:,1],c='b')\n",
        "plt.scatter(b[0],b[1],c='r')\n"
      ],
      "metadata": {
        "colab": {
          "base_uri": "https://localhost:8080/",
          "height": 282
        },
        "id": "zEMNy0887kww",
        "outputId": "5b0cb73f-921d-4ab7-f31f-8e19e0baaba9"
      },
      "execution_count": 191,
      "outputs": [
        {
          "output_type": "execute_result",
          "data": {
            "text/plain": [
              "<matplotlib.collections.PathCollection at 0x7f8380d72c90>"
            ]
          },
          "metadata": {},
          "execution_count": 191
        },
        {
          "output_type": "display_data",
          "data": {
            "text/plain": [
              "<Figure size 432x288 with 1 Axes>"
            ],
            "image/png": "[encoded data removed]"
          },
          "metadata": {
            "needs_background": "light"
          }
        }
      ]
    },
    {
      "cell_type": "code",
      "source": [
        "c = A[np.argmax(cosine_similarity(A,b))]\n",
        "plt.scatter(A[:,0],A[:,1],c='b')\n",
        "plt.scatter(b[0],b[1],c='r')\n",
        "\n",
        "plt.plot([0,b[0]],[0,b[1]],c='r')\n",
        "plt.plot([0,c[0]],[0,c[1]],c='r')"
      ],
      "metadata": {
        "colab": {
          "base_uri": "https://localhost:8080/",
          "height": 282
        },
        "id": "6S3ZP0eH8wea",
        "outputId": "b9e32501-41e0-4f10-d2a8-a5db4d359025"
      },
      "execution_count": 192,
      "outputs": [
        {
          "output_type": "execute_result",
          "data": {
            "text/plain": [
              "[<matplotlib.lines.Line2D at 0x7f8380ce9dd0>]"
            ]
          },
          "metadata": {},
          "execution_count": 192
        },
        {
          "output_type": "display_data",
          "data": {
            "text/plain": [
              "<Figure size 432x288 with 1 Axes>"
            ],
            "image/png": "[encoded data removed]"
          },
          "metadata": {
            "needs_background": "light"
          }
        }
      ]
    },
    {
      "cell_type": "code",
      "source": [
        "np.random.seed(1)\n",
        "plane = np.random.normal(size=(2))\n",
        "\n",
        "h = np.sign(np.dot(A,plane))\n",
        "clas = (h>=0)\n",
        "clas"
      ],
      "metadata": {
        "colab": {
          "base_uri": "https://localhost:8080/"
        },
        "id": "0nprNiIyDwK9",
        "outputId": "12b39564-10bf-433c-a032-e599c8f9cad4"
      },
      "execution_count": 193,
      "outputs": [
        {
          "output_type": "execute_result",
          "data": {
            "text/plain": [
              "array([ True,  True,  True,  True, False, False,  True,  True,  True,\n",
              "        True, False,  True,  True,  True,  True,  True, False, False,\n",
              "        True, False, False, False, False, False, False, False, False,\n",
              "       False, False, False, False, False,  True, False, False,  True,\n",
              "        True,  True, False, False, False,  True,  True,  True, False,\n",
              "       False, False,  True, False, False,  True, False, False, False,\n",
              "        True,  True, False, False,  True,  True,  True, False, False,\n",
              "       False,  True, False, False, False,  True,  True, False, False,\n",
              "        True, False, False, False, False,  True,  True, False, False,\n",
              "        True, False, False,  True,  True,  True, False, False, False,\n",
              "        True,  True,  True, False, False, False,  True,  True,  True,\n",
              "        True])"
            ]
          },
          "metadata": {},
          "execution_count": 193
        }
      ]
    },
    {
      "cell_type": "code",
      "source": [
        "plane"
      ],
      "metadata": {
        "colab": {
          "base_uri": "https://localhost:8080/"
        },
        "id": "9j5Aa5k-HuXQ",
        "outputId": "64821c08-01c6-4254-8c88-e9f73443c63b"
      },
      "execution_count": 194,
      "outputs": [
        {
          "output_type": "execute_result",
          "data": {
            "text/plain": [
              "array([ 1.62434536, -0.61175641])"
            ]
          },
          "metadata": {},
          "execution_count": 194
        }
      ]
    },
    {
      "cell_type": "code",
      "source": [
        "color = ['red','blue']\n",
        "plt.scatter(A[:,0],A[:,1],c=[color[int(k)] for k in clas ])"
      ],
      "metadata": {
        "colab": {
          "base_uri": "https://localhost:8080/",
          "height": 282
        },
        "id": "r6jHppRYF5pV",
        "outputId": "80540eeb-4660-4e65-dda6-5bd0e18d33af"
      },
      "execution_count": 195,
      "outputs": [
        {
          "output_type": "execute_result",
          "data": {
            "text/plain": [
              "<matplotlib.collections.PathCollection at 0x7f8380caaf50>"
            ]
          },
          "metadata": {},
          "execution_count": 195
        },
        {
          "output_type": "display_data",
          "data": {
            "text/plain": [
              "<Figure size 432x288 with 1 Axes>"
            ],
            "image/png": "[encoded data removed]"
          },
          "metadata": {
            "needs_background": "light"
          }
        }
      ]
    },
    {
      "cell_type": "code",
      "source": [
        "np.random.seed(0)\n",
        "\n",
        "N_DIMS = 2\n",
        "N_PLANES = 3\n",
        "N_UNIVERSES = 4\n",
        "\n",
        "planes = [np.random.normal(size=(N_DIMS, N_PLANES))\n",
        "            for _ in range(N_UNIVERSES)]\n"
      ],
      "metadata": {
        "id": "XVLH1cPnIDea"
      },
      "execution_count": 196,
      "outputs": []
    },
    {
      "cell_type": "code",
      "source": [
        "def hash_value_of_vector(v, planes):\n",
        "  h = np.sign(np.dot(v,planes))\n",
        "  h = (h>=0)\n",
        "  h = np.squeeze(h)\n",
        "\n",
        "  hash_value = 0\n",
        "  for i in range(planes.shape[1]):\n",
        "    hash_value += np.power(2,i) * h[i]\n",
        "  \n",
        "  return int(hash_value)\n"
      ],
      "metadata": {
        "id": "11Bf3LmYIbrI"
      },
      "execution_count": 197,
      "outputs": []
    },
    {
      "cell_type": "code",
      "source": [
        "def make_hash_table(vecs, planes):\n",
        "  num_planes = planes.shape[1]\n",
        "  print(num_planes)\n",
        "  num_buckets = 2 ** num_planes \n",
        "  hash_table = {i:[] for i in range(num_buckets)}\n",
        "\n",
        "  for v in vecs:\n",
        "    hash_value = hash_value_of_vector(v, planes)\n",
        "    hash_table[hash_value].append(v)\n",
        "  \n",
        "  return hash_table\n"
      ],
      "metadata": {
        "id": "w_qKy-MUKesd"
      },
      "execution_count": 198,
      "outputs": []
    },
    {
      "cell_type": "code",
      "source": [
        "hash_table = make_hash_table(A, planes[0])\n",
        "hash_table"
      ],
      "metadata": {
        "colab": {
          "base_uri": "https://localhost:8080/"
        },
        "id": "UK4St95TMNnT",
        "outputId": "16e1fd01-78dd-4481-b426-5633911a94a5"
      },
      "execution_count": 199,
      "outputs": [
        {
          "output_type": "stream",
          "name": "stdout",
          "text": [
            "3\n"
          ]
        },
        {
          "output_type": "execute_result",
          "data": {
            "text/plain": [
              "{0: [array([-0.38732682, -0.30230275]),\n",
              "  array([-0.50965218, -0.4380743 ]),\n",
              "  array([-1.61389785, -0.21274028]),\n",
              "  array([-0.63432209, -0.36274117]),\n",
              "  array([-0.67246045, -0.35955316]),\n",
              "  array([-0.90729836,  0.0519454 ]),\n",
              "  array([-0.87079715, -0.57884966]),\n",
              "  array([-0.31155253,  0.05616534]),\n",
              "  array([-0.69456786, -0.14963454]),\n",
              "  array([-0.67433266,  0.03183056]),\n",
              "  array([-1.31590741, -0.4615846 ]),\n",
              "  array([-1.14746865, -0.43782004]),\n",
              "  array([-0.80340966, -0.68954978]),\n",
              "  array([-0.4555325 ,  0.01747916]),\n",
              "  array([-1.10438334,  0.05216508]),\n",
              "  array([-1.29285691,  0.26705087])],\n",
              " 1: [],\n",
              " 2: [array([-2.55298982,  0.6536186 ]),\n",
              "  array([-0.34791215,  0.15634897]),\n",
              "  array([-1.25279536,  0.77749036]),\n",
              "  array([-0.89546656,  0.3869025 ]),\n",
              "  array([-1.63019835,  0.46278226]),\n",
              "  array([-1.16514984,  0.90082649]),\n",
              "  array([-1.270485  ,  0.96939671]),\n",
              "  array([-0.76991607,  0.53924919]),\n",
              "  array([-1.49125759,  0.4393917 ]),\n",
              "  array([-1.22543552,  0.84436298]),\n",
              "  array([-1.03424284,  0.68159452])],\n",
              " 3: [array([0.97873798, 2.2408932 ]),\n",
              "  array([-0.10321885,  0.4105985 ]),\n",
              "  array([0.14404357, 1.45427351]),\n",
              "  array([0.15494743, 0.37816252]),\n",
              "  array([-1.70627019,  1.9507754 ]),\n",
              "  array([-0.02818223,  0.42833187]),\n",
              "  array([0.06651722, 0.3024719 ]),\n",
              "  array([1.48825219, 1.89588918]),\n",
              "  array([-1.07075262,  1.05445173]),\n",
              "  array([-0.40317695,  1.22244507]),\n",
              "  array([0.20827498, 0.97663904]),\n",
              "  array([0.3563664 , 0.70657317]),\n",
              "  array([0.01050002, 1.78587049]),\n",
              "  array([0.12691209, 0.40198936]),\n",
              "  array([-1.17312341,  1.94362119]),\n",
              "  array([-0.86122569,  1.91006495]),\n",
              "  array([-0.26800337,  0.8024564 ]),\n",
              "  array([0.61407937, 0.92220667]),\n",
              "  array([0.29823817, 1.3263859 ]),\n",
              "  array([-0.43515355,  1.84926373]),\n",
              "  array([-0.63584608,  0.67643329]),\n",
              "  array([0.1666735 , 0.63503144]),\n",
              "  array([-0.91282223,  1.11701629]),\n",
              "  array([-0.06824161,  1.71334272]),\n",
              "  array([-0.49803245,  1.92953205]),\n",
              "  array([-0.739563 ,  1.5430146]),\n",
              "  array([0.77179055, 0.82350415])],\n",
              " 4: [array([ 0.3130677 , -0.85409574]),\n",
              "  array([ 0.8644362 , -0.74216502]),\n",
              "  array([ 0.04575852, -0.18718385]),\n",
              "  array([-0.88778575, -1.98079647]),\n",
              "  array([-1.04855297, -1.42001794]),\n",
              "  array([-0.51080514, -1.18063218]),\n",
              "  array([-0.81314628, -1.7262826 ]),\n",
              "  array([ 0.17742614, -0.40178094]),\n",
              "  array([ 1.13940068, -1.23482582]),\n",
              "  array([ 0.40234164, -0.68481009]),\n",
              "  array([ 0.46566244, -1.53624369]),\n",
              "  array([-0.41361898, -0.74745481]),\n",
              "  array([ 0.37642553, -1.09940079]),\n",
              "  array([ 0.39600671, -1.09306151]),\n",
              "  array([-0.74475482, -0.82643854]),\n",
              "  array([-0.09845252, -0.66347829]),\n",
              "  array([ 1.12663592, -1.07993151]),\n",
              "  array([-1.00021535, -1.5447711 ]),\n",
              "  array([-0.35399391, -1.37495129]),\n",
              "  array([-0.6436184 , -2.22340315]),\n",
              "  array([ 0.62523145, -1.60205766]),\n",
              "  array([-0.03928282, -1.1680935 ])],\n",
              " 5: [array([ 1.86755799, -0.97727788]),\n",
              "  array([ 2.26975462, -1.45436567]),\n",
              "  array([ 1.8831507 , -1.34775906]),\n",
              "  array([ 0.57659082, -0.20829876]),\n",
              "  array([ 0.85683061, -0.65102559]),\n",
              "  array([ 0.52327666, -0.17154633])],\n",
              " 6: [],\n",
              " 7: [array([1.76405235, 0.40015721]),\n",
              "  array([ 0.95008842, -0.15135721]),\n",
              "  array([0.76103773, 0.12167502]),\n",
              "  array([0.44386323, 0.33367433]),\n",
              "  array([ 1.49407907, -0.20515826]),\n",
              "  array([1.53277921, 1.46935877]),\n",
              "  array([1.23029068, 1.20237985]),\n",
              "  array([0.72909056, 0.12898291]),\n",
              "  array([ 1.17877957, -0.17992484]),\n",
              "  array([1.92294203, 1.48051479]),\n",
              "  array([1.86755896, 0.90604466]),\n",
              "  array([ 0.94725197, -0.15501009]),\n",
              "  array([0.67229476, 0.40746184]),\n",
              "  array([2.38314477, 0.94447949]),\n",
              "  array([0.94942081, 0.08755124]),\n",
              "  array([1.18802979, 0.31694261]),\n",
              "  array([0.92085882, 0.31872765]),\n",
              "  array([2.16323595, 1.33652795])]}"
            ]
          },
          "metadata": {},
          "execution_count": 199
        }
      ]
    },
    {
      "cell_type": "code",
      "source": [
        "import matplotlib.cm as cm\n",
        "colors = cm.rainbow(np.linspace(0, 1, len(hash_table)))\n",
        "colors.shape"
      ],
      "metadata": {
        "colab": {
          "base_uri": "https://localhost:8080/"
        },
        "id": "-waAkyLlNtxk",
        "outputId": "a32c9404-f5a9-4edc-b8b0-c14276708df6"
      },
      "execution_count": 200,
      "outputs": [
        {
          "output_type": "execute_result",
          "data": {
            "text/plain": [
              "(8, 4)"
            ]
          },
          "metadata": {},
          "execution_count": 200
        }
      ]
    },
    {
      "cell_type": "code",
      "source": [
        "for v in A:\n",
        "  plt.scatter(v[0],v[1], color=colors[hash_value_of_vector(v, planes[0])])"
      ],
      "metadata": {
        "colab": {
          "base_uri": "https://localhost:8080/",
          "height": 265
        },
        "id": "Lbv0xtj1OyMQ",
        "outputId": "831dbc28-db5f-40f4-aaf3-8fe986f7285a"
      },
      "execution_count": 201,
      "outputs": [
        {
          "output_type": "display_data",
          "data": {
            "text/plain": [
              "<Figure size 432x288 with 1 Axes>"
            ],
            "image/png": "[encoded data removed]"
          },
          "metadata": {
            "needs_background": "light"
          }
        }
      ]
    },
    {
      "cell_type": "code",
      "source": [
        "# a new vector\n",
        "vector = b\n",
        "hash_v = hash_value_of_vector(b, planes[0])\n",
        "print(b,hash_v)"
      ],
      "metadata": {
        "colab": {
          "base_uri": "https://localhost:8080/"
        },
        "id": "cG_oT5WOPdyY",
        "outputId": "20c6eb28-b559-4711-8d63-1cc62b5ef140"
      },
      "execution_count": 202,
      "outputs": [
        {
          "output_type": "stream",
          "name": "stdout",
          "text": [
            "[ 2.  -0.9] 5\n"
          ]
        }
      ]
    },
    {
      "cell_type": "code",
      "source": [
        "sub_A = hash_table[hash_v]\n",
        "similar_vec = sub_A[np.argmax(cosine_similarity(sub_A,vector))]\n",
        "similar_vec"
      ],
      "metadata": {
        "colab": {
          "base_uri": "https://localhost:8080/"
        },
        "id": "n_iepjmZQQHC",
        "outputId": "24ed5d44-3b90-4290-b751-62c8b44c77d9"
      },
      "execution_count": 203,
      "outputs": [
        {
          "output_type": "execute_result",
          "data": {
            "text/plain": [
              "array([ 1.86755799, -0.97727788])"
            ]
          },
          "metadata": {},
          "execution_count": 203
        }
      ]
    },
    {
      "cell_type": "code",
      "source": [
        "plt.scatter(A[:,0],A[:,1],c='b')\n",
        "plt.scatter(vector[0],vector[1],c='r')\n",
        "\n",
        "plt.plot([0,vector[0]],[0,vector[1]],c='r')\n",
        "plt.plot([0,similar_vec[0]],[0,similar_vec[1]],c='r')"
      ],
      "metadata": {
        "colab": {
          "base_uri": "https://localhost:8080/",
          "height": 282
        },
        "id": "Hshx1Ak9RByr",
        "outputId": "fa0be9d6-dd51-4fdd-c5d6-63ed1a980c24"
      },
      "execution_count": 204,
      "outputs": [
        {
          "output_type": "execute_result",
          "data": {
            "text/plain": [
              "[<matplotlib.lines.Line2D at 0x7f8380a1d9d0>]"
            ]
          },
          "metadata": {},
          "execution_count": 204
        },
        {
          "output_type": "display_data",
          "data": {
            "text/plain": [
              "<Figure size 432x288 with 1 Axes>"
            ],
            "image/png": "[encoded data removed]"
          },
          "metadata": {
            "needs_background": "light"
          }
        }
      ]
    }
  ]
}