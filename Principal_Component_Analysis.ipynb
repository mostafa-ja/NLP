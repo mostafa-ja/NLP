{
  "cells": [
    {
      "cell_type": "markdown",
      "metadata": {
        "id": "view-in-github",
        "colab_type": "text"
      },
      "source": [
        "<a href=\"https://colab.research.google.com/github/mostafa-ja/NLP/blob/main/Principal_Component_Analysis.ipynb\" target=\"_parent\"><img src=\"https://colab.research.google.com/assets/colab-badge.svg\" alt=\"Open In Colab\"/></a>"
      ]
    },
    {
      "cell_type": "markdown",
      "metadata": {
        "id": "d27YdRk3FrrA"
      },
      "source": [
        "# Principal Component Analysis\n",
        "\n",
        "Let's discuss PCA! Since this isn't exactly a full machine learning algorithm, but instead an unsupervised learning algorithm, we will just have a lecture on this topic, but no full machine learning project (although we will walk through the cancer set with PCA).\n",
        "\n",
        "## PCA Review\n",
        "\n"
      ]
    },
    {
      "cell_type": "markdown",
      "metadata": {
        "id": "JDNyBLrLFrrI"
      },
      "source": [
        "![](https://raw.githubusercontent.com/krishnaik06/Dimesnsionality-Reduction/67a479eaaac811803a7a00bf182062e888d3fd8b/PCA.png)"
      ]
    },
    {
      "cell_type": "markdown",
      "metadata": {
        "id": "BW3bQpBIFrrJ"
      },
      "source": [
        "## Libraries"
      ]
    },
    {
      "cell_type": "code",
      "execution_count": 136,
      "metadata": {
        "collapsed": true,
        "id": "3UCd-pPCFrrK"
      },
      "outputs": [],
      "source": [
        "import matplotlib.pyplot as plt\n",
        "import pandas as pd\n",
        "import numpy as np\n",
        "import seaborn as sns"
      ]
    },
    {
      "cell_type": "markdown",
      "metadata": {
        "id": "cDS1Gpg6FrrN"
      },
      "source": [
        "## The Data\n",
        "\n",
        "Let's work with the cancer data set again since it had so many features."
      ]
    },
    {
      "cell_type": "code",
      "execution_count": 137,
      "metadata": {
        "collapsed": true,
        "id": "o2O2f_Z2FrrO"
      },
      "outputs": [],
      "source": [
        "from sklearn.datasets import load_breast_cancer"
      ]
    },
    {
      "cell_type": "code",
      "execution_count": 138,
      "metadata": {
        "collapsed": true,
        "id": "5sWIMp6YFrrP"
      },
      "outputs": [],
      "source": [
        "cancer = load_breast_cancer()"
      ]
    },
    {
      "cell_type": "code",
      "execution_count": 139,
      "metadata": {
        "colab": {
          "base_uri": "https://localhost:8080/"
        },
        "id": "ZIw-0y63FrrQ",
        "outputId": "37735b86-8375-42f3-b98d-9237b93248e9"
      },
      "outputs": [
        {
          "output_type": "execute_result",
          "data": {
            "text/plain": [
              "dict_keys(['data', 'target', 'frame', 'target_names', 'DESCR', 'feature_names', 'filename', 'data_module'])"
            ]
          },
          "metadata": {},
          "execution_count": 139
        }
      ],
      "source": [
        "cancer.keys()"
      ]
    },
    {
      "cell_type": "code",
      "execution_count": 140,
      "metadata": {
        "colab": {
          "base_uri": "https://localhost:8080/"
        },
        "id": "Y42Eh0bKFrrS",
        "outputId": "a25bfed3-c337-41e7-d727-83e2c3716bdd"
      },
      "outputs": [
        {
          "output_type": "stream",
          "name": "stdout",
          "text": [
            ".. _breast_cancer_dataset:\n",
            "\n",
            "Breast cancer wisconsin (diagnostic) dataset\n",
            "--------------------------------------------\n",
            "\n",
            "**Data Set Characteristics:**\n",
            "\n",
            "    :Number of Instances: 569\n",
            "\n",
            "    :Number of Attributes: 30 numeric, predictive attributes and the class\n",
            "\n",
            "    :Attribute Information:\n",
            "        - radius (mean of distances from center to points on the perimeter)\n",
            "        - texture (standard deviation of gray-scale values)\n",
            "        - perimeter\n",
            "        - area\n",
            "        - smoothness (local variation in radius lengths)\n",
            "        - compactness (perimeter^2 / area - 1.0)\n",
            "        - concavity (severity of concave portions of the contour)\n",
            "        - concave points (number of concave portions of the contour)\n",
            "        - symmetry\n",
            "        - fractal dimension (\"coastline approximation\" - 1)\n",
            "\n",
            "        The mean, standard error, and \"worst\" or largest (mean of the three\n",
            "        worst/largest values) of these features were computed for each image,\n",
            "        resulting in 30 features.  For instance, field 0 is Mean Radius, field\n",
            "        10 is Radius SE, field 20 is Worst Radius.\n",
            "\n",
            "        - class:\n",
            "                - WDBC-Malignant\n",
            "                - WDBC-Benign\n",
            "\n",
            "    :Summary Statistics:\n",
            "\n",
            "    ===================================== ====== ======\n",
            "                                           Min    Max\n",
            "    ===================================== ====== ======\n",
            "    radius (mean):                        6.981  28.11\n",
            "    texture (mean):                       9.71   39.28\n",
            "    perimeter (mean):                     43.79  188.5\n",
            "    area (mean):                          143.5  2501.0\n",
            "    smoothness (mean):                    0.053  0.163\n",
            "    compactness (mean):                   0.019  0.345\n",
            "    concavity (mean):                     0.0    0.427\n",
            "    concave points (mean):                0.0    0.201\n",
            "    symmetry (mean):                      0.106  0.304\n",
            "    fractal dimension (mean):             0.05   0.097\n",
            "    radius (standard error):              0.112  2.873\n",
            "    texture (standard error):             0.36   4.885\n",
            "    perimeter (standard error):           0.757  21.98\n",
            "    area (standard error):                6.802  542.2\n",
            "    smoothness (standard error):          0.002  0.031\n",
            "    compactness (standard error):         0.002  0.135\n",
            "    concavity (standard error):           0.0    0.396\n",
            "    concave points (standard error):      0.0    0.053\n",
            "    symmetry (standard error):            0.008  0.079\n",
            "    fractal dimension (standard error):   0.001  0.03\n",
            "    radius (worst):                       7.93   36.04\n",
            "    texture (worst):                      12.02  49.54\n",
            "    perimeter (worst):                    50.41  251.2\n",
            "    area (worst):                         185.2  4254.0\n",
            "    smoothness (worst):                   0.071  0.223\n",
            "    compactness (worst):                  0.027  1.058\n",
            "    concavity (worst):                    0.0    1.252\n",
            "    concave points (worst):               0.0    0.291\n",
            "    symmetry (worst):                     0.156  0.664\n",
            "    fractal dimension (worst):            0.055  0.208\n",
            "    ===================================== ====== ======\n",
            "\n",
            "    :Missing Attribute Values: None\n",
            "\n",
            "    :Class Distribution: 212 - Malignant, 357 - Benign\n",
            "\n",
            "    :Creator:  Dr. William H. Wolberg, W. Nick Street, Olvi L. Mangasarian\n",
            "\n",
            "    :Donor: Nick Street\n",
            "\n",
            "    :Date: November, 1995\n",
            "\n",
            "This is a copy of UCI ML Breast Cancer Wisconsin (Diagnostic) datasets.\n",
            "https://goo.gl/U2Uwz2\n",
            "\n",
            "Features are computed from a digitized image of a fine needle\n",
            "aspirate (FNA) of a breast mass.  They describe\n",
            "characteristics of the cell nuclei present in the image.\n",
            "\n",
            "Separating plane described above was obtained using\n",
            "Multisurface Method-Tree (MSM-T) [K. P. Bennett, \"Decision Tree\n",
            "Construction Via Linear Programming.\" Proceedings of the 4th\n",
            "Midwest Artificial Intelligence and Cognitive Science Society,\n",
            "pp. 97-101, 1992], a classification method which uses linear\n",
            "programming to construct a decision tree.  Relevant features\n",
            "were selected using an exhaustive search in the space of 1-4\n",
            "features and 1-3 separating planes.\n",
            "\n",
            "The actual linear program used to obtain the separating plane\n",
            "in the 3-dimensional space is that described in:\n",
            "[K. P. Bennett and O. L. Mangasarian: \"Robust Linear\n",
            "Programming Discrimination of Two Linearly Inseparable Sets\",\n",
            "Optimization Methods and Software 1, 1992, 23-34].\n",
            "\n",
            "This database is also available through the UW CS ftp server:\n",
            "\n",
            "ftp ftp.cs.wisc.edu\n",
            "cd math-prog/cpo-dataset/machine-learn/WDBC/\n",
            "\n",
            ".. topic:: References\n",
            "\n",
            "   - W.N. Street, W.H. Wolberg and O.L. Mangasarian. Nuclear feature extraction \n",
            "     for breast tumor diagnosis. IS&T/SPIE 1993 International Symposium on \n",
            "     Electronic Imaging: Science and Technology, volume 1905, pages 861-870,\n",
            "     San Jose, CA, 1993.\n",
            "   - O.L. Mangasarian, W.N. Street and W.H. Wolberg. Breast cancer diagnosis and \n",
            "     prognosis via linear programming. Operations Research, 43(4), pages 570-577, \n",
            "     July-August 1995.\n",
            "   - W.H. Wolberg, W.N. Street, and O.L. Mangasarian. Machine learning techniques\n",
            "     to diagnose breast cancer from fine-needle aspirates. Cancer Letters 77 (1994) \n",
            "     163-171.\n"
          ]
        }
      ],
      "source": [
        "print(cancer['DESCR'])"
      ]
    },
    {
      "cell_type": "code",
      "source": [
        "print(cancer['data'].shape)\n",
        "print(cancer['feature_names'].shape)"
      ],
      "metadata": {
        "colab": {
          "base_uri": "https://localhost:8080/"
        },
        "id": "NzQO6Jg-GVcw",
        "outputId": "22436f47-27be-4246-9e56-b514b31e90ca"
      },
      "execution_count": 141,
      "outputs": [
        {
          "output_type": "stream",
          "name": "stdout",
          "text": [
            "(569, 30)\n",
            "(30,)\n"
          ]
        }
      ]
    },
    {
      "cell_type": "code",
      "execution_count": 142,
      "metadata": {
        "collapsed": true,
        "id": "wF5w7blSFrrT"
      },
      "outputs": [],
      "source": [
        "df = pd.DataFrame(cancer['data'],columns=cancer['feature_names'])\n",
        "#(['DESCR', 'data', 'feature_names', 'target_names', 'target'])"
      ]
    },
    {
      "cell_type": "code",
      "execution_count": 143,
      "metadata": {
        "colab": {
          "base_uri": "https://localhost:8080/",
          "height": 334
        },
        "id": "tz6XtYNfFrrV",
        "outputId": "481f69bd-537c-4ec7-f99c-92bae75b4a99"
      },
      "outputs": [
        {
          "output_type": "execute_result",
          "data": {
            "text/plain": [
              "   mean radius  mean texture  mean perimeter  mean area  mean smoothness  \\\n",
              "0        17.99         10.38          122.80     1001.0          0.11840   \n",
              "1        20.57         17.77          132.90     1326.0          0.08474   \n",
              "2        19.69         21.25          130.00     1203.0          0.10960   \n",
              "3        11.42         20.38           77.58      386.1          0.14250   \n",
              "4        20.29         14.34          135.10     1297.0          0.10030   \n",
              "\n",
              "   mean compactness  mean concavity  mean concave points  mean symmetry  \\\n",
              "0           0.27760          0.3001              0.14710         0.2419   \n",
              "1           0.07864          0.0869              0.07017         0.1812   \n",
              "2           0.15990          0.1974              0.12790         0.2069   \n",
              "3           0.28390          0.2414              0.10520         0.2597   \n",
              "4           0.13280          0.1980              0.10430         0.1809   \n",
              "\n",
              "   mean fractal dimension  ...  worst radius  worst texture  worst perimeter  \\\n",
              "0                 0.07871  ...         25.38          17.33           184.60   \n",
              "1                 0.05667  ...         24.99          23.41           158.80   \n",
              "2                 0.05999  ...         23.57          25.53           152.50   \n",
              "3                 0.09744  ...         14.91          26.50            98.87   \n",
              "4                 0.05883  ...         22.54          16.67           152.20   \n",
              "\n",
              "   worst area  worst smoothness  worst compactness  worst concavity  \\\n",
              "0      2019.0            0.1622             0.6656           0.7119   \n",
              "1      1956.0            0.1238             0.1866           0.2416   \n",
              "2      1709.0            0.1444             0.4245           0.4504   \n",
              "3       567.7            0.2098             0.8663           0.6869   \n",
              "4      1575.0            0.1374             0.2050           0.4000   \n",
              "\n",
              "   worst concave points  worst symmetry  worst fractal dimension  \n",
              "0                0.2654          0.4601                  0.11890  \n",
              "1                0.1860          0.2750                  0.08902  \n",
              "2                0.2430          0.3613                  0.08758  \n",
              "3                0.2575          0.6638                  0.17300  \n",
              "4                0.1625          0.2364                  0.07678  \n",
              "\n",
              "[5 rows x 30 columns]"
            ],
            "text/html": [
              "\n",
              "  <div id=\"df-f990db76-118c-4404-88fd-6e9886588013\">\n",
              "    <div class=\"colab-df-container\">\n",
              "      <div>\n",
              "<style scoped>\n",
              "    .dataframe tbody tr th:only-of-type {\n",
              "        vertical-align: middle;\n",
              "    }\n",
              "\n",
              "    .dataframe tbody tr th {\n",
              "        vertical-align: top;\n",
              "    }\n",
              "\n",
              "    .dataframe thead th {\n",
              "        text-align: right;\n",
              "    }\n",
              "</style>\n",
              "<table border=\"1\" class=\"dataframe\">\n",
              "  <thead>\n",
              "    <tr style=\"text-align: right;\">\n",
              "      <th></th>\n",
              "      <th>mean radius</th>\n",
              "      <th>mean texture</th>\n",
              "      <th>mean perimeter</th>\n",
              "      <th>mean area</th>\n",
              "      <th>mean smoothness</th>\n",
              "      <th>mean compactness</th>\n",
              "      <th>mean concavity</th>\n",
              "      <th>mean concave points</th>\n",
              "      <th>mean symmetry</th>\n",
              "      <th>mean fractal dimension</th>\n",
              "      <th>...</th>\n",
              "      <th>worst radius</th>\n",
              "      <th>worst texture</th>\n",
              "      <th>worst perimeter</th>\n",
              "      <th>worst area</th>\n",
              "      <th>worst smoothness</th>\n",
              "      <th>worst compactness</th>\n",
              "      <th>worst concavity</th>\n",
              "      <th>worst concave points</th>\n",
              "      <th>worst symmetry</th>\n",
              "      <th>worst fractal dimension</th>\n",
              "    </tr>\n",
              "  </thead>\n",
              "  <tbody>\n",
              "    <tr>\n",
              "      <th>0</th>\n",
              "      <td>17.99</td>\n",
              "      <td>10.38</td>\n",
              "      <td>122.80</td>\n",
              "      <td>1001.0</td>\n",
              "      <td>0.11840</td>\n",
              "      <td>0.27760</td>\n",
              "      <td>0.3001</td>\n",
              "      <td>0.14710</td>\n",
              "      <td>0.2419</td>\n",
              "      <td>0.07871</td>\n",
              "      <td>...</td>\n",
              "      <td>25.38</td>\n",
              "      <td>17.33</td>\n",
              "      <td>184.60</td>\n",
              "      <td>2019.0</td>\n",
              "      <td>0.1622</td>\n",
              "      <td>0.6656</td>\n",
              "      <td>0.7119</td>\n",
              "      <td>0.2654</td>\n",
              "      <td>0.4601</td>\n",
              "      <td>0.11890</td>\n",
              "    </tr>\n",
              "    <tr>\n",
              "      <th>1</th>\n",
              "      <td>20.57</td>\n",
              "      <td>17.77</td>\n",
              "      <td>132.90</td>\n",
              "      <td>1326.0</td>\n",
              "      <td>0.08474</td>\n",
              "      <td>0.07864</td>\n",
              "      <td>0.0869</td>\n",
              "      <td>0.07017</td>\n",
              "      <td>0.1812</td>\n",
              "      <td>0.05667</td>\n",
              "      <td>...</td>\n",
              "      <td>24.99</td>\n",
              "      <td>23.41</td>\n",
              "      <td>158.80</td>\n",
              "      <td>1956.0</td>\n",
              "      <td>0.1238</td>\n",
              "      <td>0.1866</td>\n",
              "      <td>0.2416</td>\n",
              "      <td>0.1860</td>\n",
              "      <td>0.2750</td>\n",
              "      <td>0.08902</td>\n",
              "    </tr>\n",
              "    <tr>\n",
              "      <th>2</th>\n",
              "      <td>19.69</td>\n",
              "      <td>21.25</td>\n",
              "      <td>130.00</td>\n",
              "      <td>1203.0</td>\n",
              "      <td>0.10960</td>\n",
              "      <td>0.15990</td>\n",
              "      <td>0.1974</td>\n",
              "      <td>0.12790</td>\n",
              "      <td>0.2069</td>\n",
              "      <td>0.05999</td>\n",
              "      <td>...</td>\n",
              "      <td>23.57</td>\n",
              "      <td>25.53</td>\n",
              "      <td>152.50</td>\n",
              "      <td>1709.0</td>\n",
              "      <td>0.1444</td>\n",
              "      <td>0.4245</td>\n",
              "      <td>0.4504</td>\n",
              "      <td>0.2430</td>\n",
              "      <td>0.3613</td>\n",
              "      <td>0.08758</td>\n",
              "    </tr>\n",
              "    <tr>\n",
              "      <th>3</th>\n",
              "      <td>11.42</td>\n",
              "      <td>20.38</td>\n",
              "      <td>77.58</td>\n",
              "      <td>386.1</td>\n",
              "      <td>0.14250</td>\n",
              "      <td>0.28390</td>\n",
              "      <td>0.2414</td>\n",
              "      <td>0.10520</td>\n",
              "      <td>0.2597</td>\n",
              "      <td>0.09744</td>\n",
              "      <td>...</td>\n",
              "      <td>14.91</td>\n",
              "      <td>26.50</td>\n",
              "      <td>98.87</td>\n",
              "      <td>567.7</td>\n",
              "      <td>0.2098</td>\n",
              "      <td>0.8663</td>\n",
              "      <td>0.6869</td>\n",
              "      <td>0.2575</td>\n",
              "      <td>0.6638</td>\n",
              "      <td>0.17300</td>\n",
              "    </tr>\n",
              "    <tr>\n",
              "      <th>4</th>\n",
              "      <td>20.29</td>\n",
              "      <td>14.34</td>\n",
              "      <td>135.10</td>\n",
              "      <td>1297.0</td>\n",
              "      <td>0.10030</td>\n",
              "      <td>0.13280</td>\n",
              "      <td>0.1980</td>\n",
              "      <td>0.10430</td>\n",
              "      <td>0.1809</td>\n",
              "      <td>0.05883</td>\n",
              "      <td>...</td>\n",
              "      <td>22.54</td>\n",
              "      <td>16.67</td>\n",
              "      <td>152.20</td>\n",
              "      <td>1575.0</td>\n",
              "      <td>0.1374</td>\n",
              "      <td>0.2050</td>\n",
              "      <td>0.4000</td>\n",
              "      <td>0.1625</td>\n",
              "      <td>0.2364</td>\n",
              "      <td>0.07678</td>\n",
              "    </tr>\n",
              "  </tbody>\n",
              "</table>\n",
              "<p>5 rows × 30 columns</p>\n",
              "</div>\n",
              "      <button class=\"colab-df-convert\" onclick=\"convertToInteractive('df-f990db76-118c-4404-88fd-6e9886588013')\"\n",
              "              title=\"Convert this dataframe to an interactive table.\"\n",
              "              style=\"display:none;\">\n",
              "        \n",
              "  <svg xmlns=\"http://www.w3.org/2000/svg\" height=\"24px\"viewBox=\"0 0 24 24\"\n",
              "       width=\"24px\">\n",
              "    <path d=\"M0 0h24v24H0V0z\" fill=\"none\"/>\n",
              "    <path d=\"M18.56 5.44l.94 2.06.94-2.06 2.06-.94-2.06-.94-.94-2.06-.94 2.06-2.06.94zm-11 1L8.5 8.5l.94-2.06 2.06-.94-2.06-.94L8.5 2.5l-.94 2.06-2.06.94zm10 10l.94 2.06.94-2.06 2.06-.94-2.06-.94-.94-2.06-.94 2.06-2.06.94z\"/><path d=\"M17.41 7.96l-1.37-1.37c-.4-.4-.92-.59-1.43-.59-.52 0-1.04.2-1.43.59L10.3 9.45l-7.72 7.72c-.78.78-.78 2.05 0 2.83L4 21.41c.39.39.9.59 1.41.59.51 0 1.02-.2 1.41-.59l7.78-7.78 2.81-2.81c.8-.78.8-2.07 0-2.86zM5.41 20L4 18.59l7.72-7.72 1.47 1.35L5.41 20z\"/>\n",
              "  </svg>\n",
              "      </button>\n",
              "      \n",
              "  <style>\n",
              "    .colab-df-container {\n",
              "      display:flex;\n",
              "      flex-wrap:wrap;\n",
              "      gap: 12px;\n",
              "    }\n",
              "\n",
              "    .colab-df-convert {\n",
              "      background-color: #E8F0FE;\n",
              "      border: none;\n",
              "      border-radius: 50%;\n",
              "      cursor: pointer;\n",
              "      display: none;\n",
              "      fill: #1967D2;\n",
              "      height: 32px;\n",
              "      padding: 0 0 0 0;\n",
              "      width: 32px;\n",
              "    }\n",
              "\n",
              "    .colab-df-convert:hover {\n",
              "      background-color: #E2EBFA;\n",
              "      box-shadow: 0px 1px 2px rgba(60, 64, 67, 0.3), 0px 1px 3px 1px rgba(60, 64, 67, 0.15);\n",
              "      fill: #174EA6;\n",
              "    }\n",
              "\n",
              "    [theme=dark] .colab-df-convert {\n",
              "      background-color: #3B4455;\n",
              "      fill: #D2E3FC;\n",
              "    }\n",
              "\n",
              "    [theme=dark] .colab-df-convert:hover {\n",
              "      background-color: #434B5C;\n",
              "      box-shadow: 0px 1px 3px 1px rgba(0, 0, 0, 0.15);\n",
              "      filter: drop-shadow(0px 1px 2px rgba(0, 0, 0, 0.3));\n",
              "      fill: #FFFFFF;\n",
              "    }\n",
              "  </style>\n",
              "\n",
              "      <script>\n",
              "        const buttonEl =\n",
              "          document.querySelector('#df-f990db76-118c-4404-88fd-6e9886588013 button.colab-df-convert');\n",
              "        buttonEl.style.display =\n",
              "          google.colab.kernel.accessAllowed ? 'block' : 'none';\n",
              "\n",
              "        async function convertToInteractive(key) {\n",
              "          const element = document.querySelector('#df-f990db76-118c-4404-88fd-6e9886588013');\n",
              "          const dataTable =\n",
              "            await google.colab.kernel.invokeFunction('convertToInteractive',\n",
              "                                                     [key], {});\n",
              "          if (!dataTable) return;\n",
              "\n",
              "          const docLinkHtml = 'Like what you see? Visit the ' +\n",
              "            '<a target=\"_blank\" href=https://colab.research.google.com/notebooks/data_table.ipynb>data table notebook</a>'\n",
              "            + ' to learn more about interactive tables.';\n",
              "          element.innerHTML = '';\n",
              "          dataTable['output_type'] = 'display_data';\n",
              "          await google.colab.output.renderOutput(dataTable, element);\n",
              "          const docLink = document.createElement('div');\n",
              "          docLink.innerHTML = docLinkHtml;\n",
              "          element.appendChild(docLink);\n",
              "        }\n",
              "      </script>\n",
              "    </div>\n",
              "  </div>\n",
              "  "
            ]
          },
          "metadata": {},
          "execution_count": 143
        }
      ],
      "source": [
        "df.head()"
      ]
    },
    {
      "cell_type": "code",
      "source": [
        "print(cancer.target_names)\n",
        "print(np.unique(cancer.target,return_counts=True))"
      ],
      "metadata": {
        "colab": {
          "base_uri": "https://localhost:8080/"
        },
        "id": "z7cgjwn37m8i",
        "outputId": "1d8a442e-9d66-481a-c152-c530c8bbb33c"
      },
      "execution_count": 144,
      "outputs": [
        {
          "output_type": "stream",
          "name": "stdout",
          "text": [
            "['malignant' 'benign']\n",
            "(array([0, 1]), array([212, 357]))\n"
          ]
        }
      ]
    },
    {
      "cell_type": "code",
      "source": [
        "malignant = cancer.data[cancer.target==0]\n",
        "benign = cancer.data[cancer.target==1]\n",
        "\n",
        "_,axes = plt.subplots(5,6,figsize=(15,15))\n",
        "ax = axes.ravel()\n",
        "# cancer['data'].shape[1]=30\n",
        "for i in range(cancer['data'].shape[1]):\n",
        "\n",
        "  ax[i].hist(malignant[:,i], bins=40,color='r', alpha=0.5) #alpha: for plotting two transparet plots together\n",
        "  ax[i].hist(benign[:,i], bins=40, alpha=0.3)\n",
        "\n",
        "  ax[i].set_title(cancer.feature_names[i], fontsize=12)\n",
        "\n",
        "  ax[i].legend(['malignant' 'benign'], loc='best', fontsize=8)\n",
        "\n",
        "\n",
        "plt.tight_layout() # automatically adjust subplot parameters to give specified padding, gives a proper space between subplots\n",
        "plt.show()"
      ],
      "metadata": {
        "colab": {
          "base_uri": "https://localhost:8080/",
          "height": 1000
        },
        "id": "roBLKYpj8fZR",
        "outputId": "d5d8ce4b-35f6-4455-bbd3-9a13718d61b5"
      },
      "execution_count": 145,
      "outputs": [
        {
          "output_type": "display_data",
          "data": {
            "text/plain": [
              "<Figure size 1080x1080 with 30 Axes>"
            ],
            "image/png": "[encoded data removed]"
          },
          "metadata": {
            "needs_background": "light"
          }
        }
      ]
    },
    {
      "cell_type": "markdown",
      "source": [
        "For each feature, if two histograms are separate, this means that the feature is important and it directly affects the target (diagnosis). For example, if you look at the histogram for the mean radius feature, you will observe that the larger the tumour, the more likely that the tumor is malignant (red):\n",
        "\n",
        "![](https://miro.medium.com/max/640/1*FYg_QMwQlGq83_ppBVtkKg.png)\n",
        "\n",
        "On the other hand, the smoothness error feature doesn’t really tell you whether a tumor is malignant or benign:\n",
        "\n",
        "![](https://miro.medium.com/max/640/1*G6QnP-2FcXOU_Adm4t2Jhw.png)"
      ],
      "metadata": {
        "id": "VV1hJT-xBr-p"
      }
    },
    {
      "cell_type": "markdown",
      "source": [
        "# Applying PCA with more details"
      ],
      "metadata": {
        "id": "tGTekPweCY1K"
      }
    },
    {
      "cell_type": "code",
      "execution_count": 146,
      "metadata": {
        "collapsed": true,
        "id": "8wnQVWwTFrrW"
      },
      "outputs": [],
      "source": [
        "from sklearn.preprocessing import StandardScaler"
      ]
    },
    {
      "cell_type": "code",
      "execution_count": 147,
      "metadata": {
        "colab": {
          "base_uri": "https://localhost:8080/"
        },
        "id": "eIKLUWwtFrrX",
        "outputId": "539fe4c4-8a4c-4e31-bb0c-85d15892f263"
      },
      "outputs": [
        {
          "output_type": "execute_result",
          "data": {
            "text/plain": [
              "StandardScaler()"
            ]
          },
          "metadata": {},
          "execution_count": 147
        }
      ],
      "source": [
        "scaler = StandardScaler()\n",
        "scaler.fit(df)"
      ]
    },
    {
      "cell_type": "code",
      "execution_count": 148,
      "metadata": {
        "collapsed": true,
        "id": "4sAfMCopFrrX"
      },
      "outputs": [],
      "source": [
        "scaled_data = scaler.transform(df)"
      ]
    },
    {
      "cell_type": "markdown",
      "source": [
        "The initializer of the PCA class has a parameter named n_components. You can supply it one of the following values:\n",
        "\n",
        "**an integer** to indicate how many principal components you want to reduce the features to.\n",
        "\n",
        "\n",
        "**a floating-point number between 0<n<1** and it will return the number of components needed to capture the specified percentage of variability in the data. For example, if you want to find the number of components needed to capture 85% of the variability of the data, pass 0.85 to the n_components parameter.\n",
        "\n",
        "\n",
        "**None**. In this case, the number of components returned will be the same as the number of original features in the dataset"
      ],
      "metadata": {
        "id": "NzJsDigQC45M"
      }
    },
    {
      "cell_type": "code",
      "source": [
        "from sklearn.decomposition import PCA\n",
        "\n",
        "components = None\n",
        "pca = PCA(n_components = components)\n",
        "# perform PCA on the scaled data\n",
        "pca.fit(scaled_data)"
      ],
      "metadata": {
        "colab": {
          "base_uri": "https://localhost:8080/"
        },
        "id": "m1UCxpVRCyNR",
        "outputId": "b06aa596-1178-422d-86ea-194bfcc5cfa3"
      },
      "execution_count": 149,
      "outputs": [
        {
          "output_type": "execute_result",
          "data": {
            "text/plain": [
              "PCA()"
            ]
          },
          "metadata": {},
          "execution_count": 149
        }
      ]
    },
    {
      "cell_type": "code",
      "source": [
        "# print the explained variances\n",
        "print(\"Variances (Percentage):\")\n",
        "print(pca.explained_variance_ratio_ * 100)\n"
      ],
      "metadata": {
        "colab": {
          "base_uri": "https://localhost:8080/"
        },
        "id": "tRHOhuSRDoqy",
        "outputId": "5a9493bc-c83f-436f-b24a-8b5f764e867e"
      },
      "execution_count": 150,
      "outputs": [
        {
          "output_type": "stream",
          "name": "stdout",
          "text": [
            "Variances (Percentage):\n",
            "[4.42720256e+01 1.89711820e+01 9.39316326e+00 6.60213492e+00\n",
            " 5.49576849e+00 4.02452204e+00 2.25073371e+00 1.58872380e+00\n",
            " 1.38964937e+00 1.16897819e+00 9.79718988e-01 8.70537901e-01\n",
            " 8.04524987e-01 5.23365745e-01 3.13783217e-01 2.66209337e-01\n",
            " 1.97996793e-01 1.75395945e-01 1.64925306e-01 1.03864675e-01\n",
            " 9.99096464e-02 9.14646751e-02 8.11361259e-02 6.01833567e-02\n",
            " 5.16042379e-02 2.72587995e-02 2.30015463e-02 5.29779290e-03\n",
            " 2.49601032e-03 4.43482743e-04]\n"
          ]
        }
      ]
    },
    {
      "cell_type": "markdown",
      "source": [
        "So how do you interpret the above output? You can interpret it as follows:\n",
        "\n",
        "The first component alone captures about 44% variability in the data\n",
        "The second one captures about 19% variability in the data and so on.\n",
        "The 30 components altogether capture 100% variability in the data."
      ],
      "metadata": {
        "id": "OgluT8PrDrUx"
      }
    },
    {
      "cell_type": "markdown",
      "source": [
        "A much easier way to understand the above result is to print the cumulative variances:"
      ],
      "metadata": {
        "id": "FG3BDiGNDx5E"
      }
    },
    {
      "cell_type": "code",
      "source": [
        "print(\"Cumulative Variances (Percentage):\")\n",
        "print(pca.explained_variance_ratio_.cumsum()*100)"
      ],
      "metadata": {
        "colab": {
          "base_uri": "https://localhost:8080/"
        },
        "id": "1hQ2t_vpD1Y9",
        "outputId": "25724039-6f53-4a4f-86bd-5d606f6cfeb0"
      },
      "execution_count": 151,
      "outputs": [
        {
          "output_type": "stream",
          "name": "stdout",
          "text": [
            "Cumulative Variances (Percentage):\n",
            "[ 44.27202561  63.24320765  72.63637091  79.23850582  84.73427432\n",
            "  88.75879636  91.00953007  92.59825387  93.98790324  95.15688143\n",
            "  96.13660042  97.00713832  97.81166331  98.33502905  98.64881227\n",
            "  98.91502161  99.1130184   99.28841435  99.45333965  99.55720433\n",
            "  99.65711397  99.74857865  99.82971477  99.88989813  99.94150237\n",
            "  99.96876117  99.99176271  99.99706051  99.99955652 100.        ]\n"
          ]
        }
      ]
    },
    {
      "cell_type": "markdown",
      "source": [
        "You can now interpret the cumulative variances as follows:\n",
        "\n",
        "The first component alone captures about 44% variability in the data\n",
        "\n",
        "The first two components capture about 63% variability in the data and so on.\n",
        "\n",
        "The first 8 components together capture about 92.6% variability in the data."
      ],
      "metadata": {
        "id": "IegT0IPkENEy"
      }
    },
    {
      "cell_type": "markdown",
      "source": [
        "A visual way to view the cumulative variances is to plot a scree plot.\n",
        "\n",
        "A scree plot is a line plot of the principal components."
      ],
      "metadata": {
        "id": "9JtSR20GETUe"
      }
    },
    {
      "cell_type": "code",
      "source": [
        "component = len(pca.explained_variance_ratio_) if components is None else components\n",
        "\n",
        "plt.plot(range(1,component+1), pca.explained_variance_ratio_.cumsum()*100);\n",
        "plt.xlabel('Number of components');\n",
        "plt.ylabel('Explained variance (%)');"
      ],
      "metadata": {
        "colab": {
          "base_uri": "https://localhost:8080/",
          "height": 279
        },
        "id": "ZG7md9tqEM2x",
        "outputId": "f6c40e97-d0de-41dc-a5cd-1b02ba3bac09"
      },
      "execution_count": 152,
      "outputs": [
        {
          "output_type": "display_data",
          "data": {
            "text/plain": [
              "<Figure size 432x288 with 1 Axes>"
            ],
            "image/png": "[encoded data removed]"
          },
          "metadata": {
            "needs_background": "light"
          }
        }
      ]
    },
    {
      "cell_type": "markdown",
      "source": [
        "The scree plot makes it easy for you to visualize the number of components that are needed to capture the various amount of variability in the data:"
      ],
      "metadata": {
        "id": "TvWlIycKGD-p"
      }
    },
    {
      "cell_type": "markdown",
      "source": [
        "Let’s now apply PCA to find the desired number of components based on the desired explained variance, say 85%:"
      ],
      "metadata": {
        "id": "JjBq9LXFGTwz"
      }
    },
    {
      "cell_type": "code",
      "source": [
        "from sklearn.decomposition import PCA\n",
        "pca = PCA(n_components = 0.85)\n",
        "pca.fit(scaled_data)\n",
        "print(\"Cumulative Variances (Percentage):\")\n",
        "print(np.cumsum(pca.explained_variance_ratio_ * 100))\n",
        "components = len(pca.explained_variance_ratio_)\n",
        "print(f'Number of components: {components}')\n",
        "# Make the scree plot\n",
        "plt.plot(range(1, components + 1), np.cumsum(pca.explained_variance_ratio_ * 100));\n",
        "plt.xlabel(\"Number of components\");\n",
        "plt.ylabel(\"Explained variance (%)\");"
      ],
      "metadata": {
        "colab": {
          "base_uri": "https://localhost:8080/",
          "height": 331
        },
        "id": "-8GNj2ItGCzs",
        "outputId": "f02fb3a1-ddc6-4e70-d291-fa01435e1711"
      },
      "execution_count": 153,
      "outputs": [
        {
          "output_type": "stream",
          "name": "stdout",
          "text": [
            "Cumulative Variances (Percentage):\n",
            "[44.27202561 63.24320765 72.63637091 79.23850582 84.73427432 88.75879636]\n",
            "Number of components: 6\n"
          ]
        },
        {
          "output_type": "display_data",
          "data": {
            "text/plain": [
              "<Figure size 432x288 with 1 Axes>"
            ],
            "image/png": "[encoded data removed]"
          },
          "metadata": {
            "needs_background": "light"
          }
        }
      ]
    },
    {
      "cell_type": "markdown",
      "source": [
        "You can also find out the importance of each feature that contributes to each of the components using the components_ attribute of the pca object:"
      ],
      "metadata": {
        "id": "7z9_YTovGmip"
      }
    },
    {
      "cell_type": "code",
      "source": [
        "pca_components = abs(pca.components_)\n",
        "print(pca_components)"
      ],
      "metadata": {
        "colab": {
          "base_uri": "https://localhost:8080/"
        },
        "id": "pRcjGWeWGnVG",
        "outputId": "8d8787a7-585b-4a5f-e0c2-ab618dd8a215"
      },
      "execution_count": 154,
      "outputs": [
        {
          "output_type": "stream",
          "name": "stdout",
          "text": [
            "[[2.18902444e-01 1.03724578e-01 2.27537293e-01 2.20994985e-01\n",
            "  1.42589694e-01 2.39285354e-01 2.58400481e-01 2.60853758e-01\n",
            "  1.38166959e-01 6.43633464e-02 2.05978776e-01 1.74280281e-02\n",
            "  2.11325916e-01 2.02869635e-01 1.45314521e-02 1.70393451e-01\n",
            "  1.53589790e-01 1.83417397e-01 4.24984216e-02 1.02568322e-01\n",
            "  2.27996634e-01 1.04469325e-01 2.36639681e-01 2.24870533e-01\n",
            "  1.27952561e-01 2.10095880e-01 2.28767533e-01 2.50885971e-01\n",
            "  1.22904556e-01 1.31783943e-01]\n",
            " [2.33857132e-01 5.97060883e-02 2.15181361e-01 2.31076711e-01\n",
            "  1.86113023e-01 1.51891610e-01 6.01653628e-02 3.47675005e-02\n",
            "  1.90348770e-01 3.66575471e-01 1.05552152e-01 8.99796818e-02\n",
            "  8.94572342e-02 1.52292628e-01 2.04430453e-01 2.32715896e-01\n",
            "  1.97207283e-01 1.30321560e-01 1.83848000e-01 2.80092027e-01\n",
            "  2.19866379e-01 4.54672983e-02 1.99878428e-01 2.19351858e-01\n",
            "  1.72304352e-01 1.43593173e-01 9.79641143e-02 8.25723507e-03\n",
            "  1.41883349e-01 2.75339469e-01]\n",
            " [8.53124284e-03 6.45499033e-02 9.31421972e-03 2.86995259e-02\n",
            "  1.04291904e-01 7.40915709e-02 2.73383798e-03 2.55635406e-02\n",
            "  4.02399363e-02 2.25740897e-02 2.68481387e-01 3.74633665e-01\n",
            "  2.66645367e-01 2.16006528e-01 3.08838979e-01 1.54779718e-01\n",
            "  1.76463743e-01 2.24657567e-01 2.88584292e-01 2.11503764e-01\n",
            "  4.75069900e-02 4.22978228e-02 4.85465083e-02 1.19023182e-02\n",
            "  2.59797613e-01 2.36075625e-01 1.73057335e-01 1.70344076e-01\n",
            "  2.71312642e-01 2.32791313e-01]\n",
            " [4.14089623e-02 6.03050001e-01 4.19830991e-02 5.34337955e-02\n",
            "  1.59382765e-01 3.17945811e-02 1.91227535e-02 6.53359443e-02\n",
            "  6.71249840e-02 4.85867649e-02 9.79412418e-02 3.59855528e-01\n",
            "  8.89924146e-02 1.08205039e-01 4.46641797e-02 2.74693632e-02\n",
            "  1.31687997e-03 7.40673350e-02 4.40733510e-02 1.53047496e-02\n",
            "  1.54172396e-02 6.32807885e-01 1.38027944e-02 2.58947492e-02\n",
            "  1.76522161e-02 9.13284153e-02 7.39511797e-02 6.00699571e-03\n",
            "  3.62506947e-02 7.70534703e-02]\n",
            " [3.77863538e-02 4.94688505e-02 3.73746632e-02 1.03312514e-02\n",
            "  3.65088528e-01 1.17039713e-02 8.63754118e-02 4.38610252e-02\n",
            "  3.05941428e-01 4.44243602e-02 1.54456496e-01 1.91650506e-01\n",
            "  1.20990220e-01 1.27574432e-01 2.32065676e-01 2.79968156e-01\n",
            "  3.53982091e-01 1.95548089e-01 2.52868765e-01 2.63297438e-01\n",
            "  4.40659209e-03 9.28834001e-02 7.45415100e-03 2.73909030e-02\n",
            "  3.24435445e-01 1.21804107e-01 1.88518727e-01 4.33320687e-02\n",
            "  2.44558663e-01 9.44233510e-02]\n",
            " [1.87407904e-02 3.21788366e-02 1.73084449e-02 1.88774796e-03\n",
            "  2.86374497e-01 1.41309489e-02 9.34418089e-03 5.20499505e-02\n",
            "  3.56458461e-01 1.19430668e-01 2.56032561e-02 2.87473145e-02\n",
            "  1.81071500e-03 4.28639079e-02 3.42917393e-01 6.91975186e-02\n",
            "  5.63432386e-02 3.12244482e-02 4.90245643e-01 5.31952674e-02\n",
            "  2.90684919e-04 5.00080613e-02 8.50098715e-03 2.51643821e-02\n",
            "  3.69255370e-01 4.77057929e-02 2.83792555e-02 3.08734498e-02\n",
            "  4.98926784e-01 8.02235245e-02]]\n"
          ]
        }
      ]
    },
    {
      "cell_type": "code",
      "source": [
        "abs(pca.components_).shape"
      ],
      "metadata": {
        "colab": {
          "base_uri": "https://localhost:8080/"
        },
        "id": "asRK9zh7G0bl",
        "outputId": "6c403640-3208-4e5d-a451-044e26678299"
      },
      "execution_count": 155,
      "outputs": [
        {
          "output_type": "execute_result",
          "data": {
            "text/plain": [
              "(6, 30)"
            ]
          },
          "metadata": {},
          "execution_count": 155
        }
      ]
    },
    {
      "cell_type": "code",
      "source": [
        "index = ['Component'+str(i+1) for i in range(pca.components_.shape[0])]\n",
        "columns = ['Feature'+str(i+1) for i in range(pca.components_.shape[1])]\n",
        "\n",
        "df_components = pd.DataFrame(pca_components,index=index, columns=columns)\n",
        "df_components.head()"
      ],
      "metadata": {
        "colab": {
          "base_uri": "https://localhost:8080/",
          "height": 300
        },
        "id": "n7LEhospHMBS",
        "outputId": "e0dd59af-13ce-44ed-de8e-62a603b7bfa5"
      },
      "execution_count": 156,
      "outputs": [
        {
          "output_type": "execute_result",
          "data": {
            "text/plain": [
              "            Feature1  Feature2  Feature3  Feature4  Feature5  Feature6  \\\n",
              "Component1  0.218902  0.103725  0.227537  0.220995  0.142590  0.239285   \n",
              "Component2  0.233857  0.059706  0.215181  0.231077  0.186113  0.151892   \n",
              "Component3  0.008531  0.064550  0.009314  0.028700  0.104292  0.074092   \n",
              "Component4  0.041409  0.603050  0.041983  0.053434  0.159383  0.031795   \n",
              "Component5  0.037786  0.049469  0.037375  0.010331  0.365089  0.011704   \n",
              "\n",
              "            Feature7  Feature8  Feature9  Feature10  ...  Feature21  \\\n",
              "Component1  0.258400  0.260854  0.138167   0.064363  ...   0.227997   \n",
              "Component2  0.060165  0.034768  0.190349   0.366575  ...   0.219866   \n",
              "Component3  0.002734  0.025564  0.040240   0.022574  ...   0.047507   \n",
              "Component4  0.019123  0.065336  0.067125   0.048587  ...   0.015417   \n",
              "Component5  0.086375  0.043861  0.305941   0.044424  ...   0.004407   \n",
              "\n",
              "            Feature22  Feature23  Feature24  Feature25  Feature26  Feature27  \\\n",
              "Component1   0.104469   0.236640   0.224871   0.127953   0.210096   0.228768   \n",
              "Component2   0.045467   0.199878   0.219352   0.172304   0.143593   0.097964   \n",
              "Component3   0.042298   0.048547   0.011902   0.259798   0.236076   0.173057   \n",
              "Component4   0.632808   0.013803   0.025895   0.017652   0.091328   0.073951   \n",
              "Component5   0.092883   0.007454   0.027391   0.324435   0.121804   0.188519   \n",
              "\n",
              "            Feature28  Feature29  Feature30  \n",
              "Component1   0.250886   0.122905   0.131784  \n",
              "Component2   0.008257   0.141883   0.275339  \n",
              "Component3   0.170344   0.271313   0.232791  \n",
              "Component4   0.006007   0.036251   0.077053  \n",
              "Component5   0.043332   0.244559   0.094423  \n",
              "\n",
              "[5 rows x 30 columns]"
            ],
            "text/html": [
              "\n",
              "  <div id=\"df-44d1d8cd-e0ee-47c4-aa8c-a1f190adac37\">\n",
              "    <div class=\"colab-df-container\">\n",
              "      <div>\n",
              "<style scoped>\n",
              "    .dataframe tbody tr th:only-of-type {\n",
              "        vertical-align: middle;\n",
              "    }\n",
              "\n",
              "    .dataframe tbody tr th {\n",
              "        vertical-align: top;\n",
              "    }\n",
              "\n",
              "    .dataframe thead th {\n",
              "        text-align: right;\n",
              "    }\n",
              "</style>\n",
              "<table border=\"1\" class=\"dataframe\">\n",
              "  <thead>\n",
              "    <tr style=\"text-align: right;\">\n",
              "      <th></th>\n",
              "      <th>Feature1</th>\n",
              "      <th>Feature2</th>\n",
              "      <th>Feature3</th>\n",
              "      <th>Feature4</th>\n",
              "      <th>Feature5</th>\n",
              "      <th>Feature6</th>\n",
              "      <th>Feature7</th>\n",
              "      <th>Feature8</th>\n",
              "      <th>Feature9</th>\n",
              "      <th>Feature10</th>\n",
              "      <th>...</th>\n",
              "      <th>Feature21</th>\n",
              "      <th>Feature22</th>\n",
              "      <th>Feature23</th>\n",
              "      <th>Feature24</th>\n",
              "      <th>Feature25</th>\n",
              "      <th>Feature26</th>\n",
              "      <th>Feature27</th>\n",
              "      <th>Feature28</th>\n",
              "      <th>Feature29</th>\n",
              "      <th>Feature30</th>\n",
              "    </tr>\n",
              "  </thead>\n",
              "  <tbody>\n",
              "    <tr>\n",
              "      <th>Component1</th>\n",
              "      <td>0.218902</td>\n",
              "      <td>0.103725</td>\n",
              "      <td>0.227537</td>\n",
              "      <td>0.220995</td>\n",
              "      <td>0.142590</td>\n",
              "      <td>0.239285</td>\n",
              "      <td>0.258400</td>\n",
              "      <td>0.260854</td>\n",
              "      <td>0.138167</td>\n",
              "      <td>0.064363</td>\n",
              "      <td>...</td>\n",
              "      <td>0.227997</td>\n",
              "      <td>0.104469</td>\n",
              "      <td>0.236640</td>\n",
              "      <td>0.224871</td>\n",
              "      <td>0.127953</td>\n",
              "      <td>0.210096</td>\n",
              "      <td>0.228768</td>\n",
              "      <td>0.250886</td>\n",
              "      <td>0.122905</td>\n",
              "      <td>0.131784</td>\n",
              "    </tr>\n",
              "    <tr>\n",
              "      <th>Component2</th>\n",
              "      <td>0.233857</td>\n",
              "      <td>0.059706</td>\n",
              "      <td>0.215181</td>\n",
              "      <td>0.231077</td>\n",
              "      <td>0.186113</td>\n",
              "      <td>0.151892</td>\n",
              "      <td>0.060165</td>\n",
              "      <td>0.034768</td>\n",
              "      <td>0.190349</td>\n",
              "      <td>0.366575</td>\n",
              "      <td>...</td>\n",
              "      <td>0.219866</td>\n",
              "      <td>0.045467</td>\n",
              "      <td>0.199878</td>\n",
              "      <td>0.219352</td>\n",
              "      <td>0.172304</td>\n",
              "      <td>0.143593</td>\n",
              "      <td>0.097964</td>\n",
              "      <td>0.008257</td>\n",
              "      <td>0.141883</td>\n",
              "      <td>0.275339</td>\n",
              "    </tr>\n",
              "    <tr>\n",
              "      <th>Component3</th>\n",
              "      <td>0.008531</td>\n",
              "      <td>0.064550</td>\n",
              "      <td>0.009314</td>\n",
              "      <td>0.028700</td>\n",
              "      <td>0.104292</td>\n",
              "      <td>0.074092</td>\n",
              "      <td>0.002734</td>\n",
              "      <td>0.025564</td>\n",
              "      <td>0.040240</td>\n",
              "      <td>0.022574</td>\n",
              "      <td>...</td>\n",
              "      <td>0.047507</td>\n",
              "      <td>0.042298</td>\n",
              "      <td>0.048547</td>\n",
              "      <td>0.011902</td>\n",
              "      <td>0.259798</td>\n",
              "      <td>0.236076</td>\n",
              "      <td>0.173057</td>\n",
              "      <td>0.170344</td>\n",
              "      <td>0.271313</td>\n",
              "      <td>0.232791</td>\n",
              "    </tr>\n",
              "    <tr>\n",
              "      <th>Component4</th>\n",
              "      <td>0.041409</td>\n",
              "      <td>0.603050</td>\n",
              "      <td>0.041983</td>\n",
              "      <td>0.053434</td>\n",
              "      <td>0.159383</td>\n",
              "      <td>0.031795</td>\n",
              "      <td>0.019123</td>\n",
              "      <td>0.065336</td>\n",
              "      <td>0.067125</td>\n",
              "      <td>0.048587</td>\n",
              "      <td>...</td>\n",
              "      <td>0.015417</td>\n",
              "      <td>0.632808</td>\n",
              "      <td>0.013803</td>\n",
              "      <td>0.025895</td>\n",
              "      <td>0.017652</td>\n",
              "      <td>0.091328</td>\n",
              "      <td>0.073951</td>\n",
              "      <td>0.006007</td>\n",
              "      <td>0.036251</td>\n",
              "      <td>0.077053</td>\n",
              "    </tr>\n",
              "    <tr>\n",
              "      <th>Component5</th>\n",
              "      <td>0.037786</td>\n",
              "      <td>0.049469</td>\n",
              "      <td>0.037375</td>\n",
              "      <td>0.010331</td>\n",
              "      <td>0.365089</td>\n",
              "      <td>0.011704</td>\n",
              "      <td>0.086375</td>\n",
              "      <td>0.043861</td>\n",
              "      <td>0.305941</td>\n",
              "      <td>0.044424</td>\n",
              "      <td>...</td>\n",
              "      <td>0.004407</td>\n",
              "      <td>0.092883</td>\n",
              "      <td>0.007454</td>\n",
              "      <td>0.027391</td>\n",
              "      <td>0.324435</td>\n",
              "      <td>0.121804</td>\n",
              "      <td>0.188519</td>\n",
              "      <td>0.043332</td>\n",
              "      <td>0.244559</td>\n",
              "      <td>0.094423</td>\n",
              "    </tr>\n",
              "  </tbody>\n",
              "</table>\n",
              "<p>5 rows × 30 columns</p>\n",
              "</div>\n",
              "      <button class=\"colab-df-convert\" onclick=\"convertToInteractive('df-44d1d8cd-e0ee-47c4-aa8c-a1f190adac37')\"\n",
              "              title=\"Convert this dataframe to an interactive table.\"\n",
              "              style=\"display:none;\">\n",
              "        \n",
              "  <svg xmlns=\"http://www.w3.org/2000/svg\" height=\"24px\"viewBox=\"0 0 24 24\"\n",
              "       width=\"24px\">\n",
              "    <path d=\"M0 0h24v24H0V0z\" fill=\"none\"/>\n",
              "    <path d=\"M18.56 5.44l.94 2.06.94-2.06 2.06-.94-2.06-.94-.94-2.06-.94 2.06-2.06.94zm-11 1L8.5 8.5l.94-2.06 2.06-.94-2.06-.94L8.5 2.5l-.94 2.06-2.06.94zm10 10l.94 2.06.94-2.06 2.06-.94-2.06-.94-.94-2.06-.94 2.06-2.06.94z\"/><path d=\"M17.41 7.96l-1.37-1.37c-.4-.4-.92-.59-1.43-.59-.52 0-1.04.2-1.43.59L10.3 9.45l-7.72 7.72c-.78.78-.78 2.05 0 2.83L4 21.41c.39.39.9.59 1.41.59.51 0 1.02-.2 1.41-.59l7.78-7.78 2.81-2.81c.8-.78.8-2.07 0-2.86zM5.41 20L4 18.59l7.72-7.72 1.47 1.35L5.41 20z\"/>\n",
              "  </svg>\n",
              "      </button>\n",
              "      \n",
              "  <style>\n",
              "    .colab-df-container {\n",
              "      display:flex;\n",
              "      flex-wrap:wrap;\n",
              "      gap: 12px;\n",
              "    }\n",
              "\n",
              "    .colab-df-convert {\n",
              "      background-color: #E8F0FE;\n",
              "      border: none;\n",
              "      border-radius: 50%;\n",
              "      cursor: pointer;\n",
              "      display: none;\n",
              "      fill: #1967D2;\n",
              "      height: 32px;\n",
              "      padding: 0 0 0 0;\n",
              "      width: 32px;\n",
              "    }\n",
              "\n",
              "    .colab-df-convert:hover {\n",
              "      background-color: #E2EBFA;\n",
              "      box-shadow: 0px 1px 2px rgba(60, 64, 67, 0.3), 0px 1px 3px 1px rgba(60, 64, 67, 0.15);\n",
              "      fill: #174EA6;\n",
              "    }\n",
              "\n",
              "    [theme=dark] .colab-df-convert {\n",
              "      background-color: #3B4455;\n",
              "      fill: #D2E3FC;\n",
              "    }\n",
              "\n",
              "    [theme=dark] .colab-df-convert:hover {\n",
              "      background-color: #434B5C;\n",
              "      box-shadow: 0px 1px 3px 1px rgba(0, 0, 0, 0.15);\n",
              "      filter: drop-shadow(0px 1px 2px rgba(0, 0, 0, 0.3));\n",
              "      fill: #FFFFFF;\n",
              "    }\n",
              "  </style>\n",
              "\n",
              "      <script>\n",
              "        const buttonEl =\n",
              "          document.querySelector('#df-44d1d8cd-e0ee-47c4-aa8c-a1f190adac37 button.colab-df-convert');\n",
              "        buttonEl.style.display =\n",
              "          google.colab.kernel.accessAllowed ? 'block' : 'none';\n",
              "\n",
              "        async function convertToInteractive(key) {\n",
              "          const element = document.querySelector('#df-44d1d8cd-e0ee-47c4-aa8c-a1f190adac37');\n",
              "          const dataTable =\n",
              "            await google.colab.kernel.invokeFunction('convertToInteractive',\n",
              "                                                     [key], {});\n",
              "          if (!dataTable) return;\n",
              "\n",
              "          const docLinkHtml = 'Like what you see? Visit the ' +\n",
              "            '<a target=\"_blank\" href=https://colab.research.google.com/notebooks/data_table.ipynb>data table notebook</a>'\n",
              "            + ' to learn more about interactive tables.';\n",
              "          element.innerHTML = '';\n",
              "          dataTable['output_type'] = 'display_data';\n",
              "          await google.colab.output.renderOutput(dataTable, element);\n",
              "          const docLink = document.createElement('div');\n",
              "          docLink.innerHTML = docLinkHtml;\n",
              "          element.appendChild(docLink);\n",
              "        }\n",
              "      </script>\n",
              "    </div>\n",
              "  </div>\n",
              "  "
            ]
          },
          "metadata": {},
          "execution_count": 156
        }
      ]
    },
    {
      "cell_type": "markdown",
      "source": [
        "For curiosity, let’s print out the top 4 features that contributes the most to each of the 6 components:"
      ],
      "metadata": {
        "id": "xP6BbLBaKM_w"
      }
    },
    {
      "cell_type": "code",
      "source": [
        "print('Top 4 most important features in each component')\n",
        "print('===============================================')\n",
        "for row in range(pca_components.shape[0]):\n",
        "    # get the indices of the top 4 values in each row\n",
        "    temp = np.argpartition(-(pca_components[row]), 4)\n",
        "    \n",
        "    # sort the indices in descending order\n",
        "    indices = np.argsort(pca_components[row])[::-1][:4]  # [::-1] : reverse the list from max to min\n",
        "    \n",
        "    # print the top 4 feature names\n",
        "    print(f'Component {row}: {df.columns[indices].to_list()}')"
      ],
      "metadata": {
        "colab": {
          "base_uri": "https://localhost:8080/"
        },
        "id": "BoFXtrWrKMa1",
        "outputId": "ec1af329-9e04-4ade-cb99-e74ed6e14bea"
      },
      "execution_count": 157,
      "outputs": [
        {
          "output_type": "stream",
          "name": "stdout",
          "text": [
            "Top 4 most important features in each component\n",
            "===============================================\n",
            "Component 0: ['mean concave points', 'mean concavity', 'worst concave points', 'mean compactness']\n",
            "Component 1: ['mean fractal dimension', 'fractal dimension error', 'worst fractal dimension', 'mean radius']\n",
            "Component 2: ['texture error', 'smoothness error', 'symmetry error', 'worst symmetry']\n",
            "Component 3: ['worst texture', 'mean texture', 'texture error', 'mean smoothness']\n",
            "Component 4: ['mean smoothness', 'concavity error', 'worst smoothness', 'mean symmetry']\n",
            "Component 5: ['worst symmetry', 'symmetry error', 'worst smoothness', 'mean symmetry']\n"
          ]
        }
      ]
    },
    {
      "cell_type": "markdown",
      "source": [
        "**Transforming all the 30 Columns to the 6 Principal Components**\n",
        "\n",
        "You can now transform the standardized data of the 30 columns in the dataset to the 6 principal components:"
      ],
      "metadata": {
        "id": "WUWvq6q9po2K"
      }
    },
    {
      "cell_type": "code",
      "source": [
        "X_pca = pca.transform(scaled_data)\n",
        "print(X_pca.shape)\n",
        "print(X_pca)"
      ],
      "metadata": {
        "colab": {
          "base_uri": "https://localhost:8080/"
        },
        "id": "c0SB6B5tpv6n",
        "outputId": "5052842f-1703-4543-d0d6-8e4e42f2b0d5"
      },
      "execution_count": 158,
      "outputs": [
        {
          "output_type": "stream",
          "name": "stdout",
          "text": [
            "(569, 6)\n",
            "[[ 9.19283683  1.94858307 -1.12316616  3.6337309  -1.19511012  1.41142445]\n",
            " [ 2.3878018  -3.76817174 -0.52929269  1.11826386  0.62177498  0.02865635]\n",
            " [ 5.73389628 -1.0751738  -0.55174759  0.91208267 -0.1770859   0.54145215]\n",
            " ...\n",
            " [ 1.25617928 -1.90229671  0.56273053 -2.08922702  1.80999133 -0.53444719]\n",
            " [10.37479406  1.67201011 -1.87702933 -2.35603113 -0.03374193  0.56793647]\n",
            " [-5.4752433  -0.67063679  1.49044308 -2.29915714 -0.18470331  1.61783736]]\n"
          ]
        }
      ]
    },
    {
      "cell_type": "markdown",
      "metadata": {
        "id": "8Nv20U3UFrrV"
      },
      "source": [
        "## PCA Visualization\n",
        "\n",
        "As we've noticed before it is difficult to visualize high dimensional data, we can use PCA to find the first two principal components, and visualize the data in this new, two-dimensional space, with a single scatter-plot. Before we do this though, we'll need to scale our data so that each feature has a single unit variance."
      ]
    },
    {
      "cell_type": "markdown",
      "metadata": {
        "id": "IwsME2cEFrrY"
      },
      "source": [
        "PCA with Scikit Learn uses a very similar process to other preprocessing functions that come with SciKit Learn. We instantiate a PCA object, find the principal components using the fit method, then apply the rotation and dimensionality reduction by calling transform().\n",
        "\n",
        "We can also specify how many components we want to keep when creating the PCA object."
      ]
    },
    {
      "cell_type": "code",
      "execution_count": 159,
      "metadata": {
        "collapsed": true,
        "colab": {
          "base_uri": "https://localhost:8080/"
        },
        "id": "ZiCRN67uFrrY",
        "outputId": "f50ee906-1497-460f-fb22-4d1c5bb5042e"
      },
      "outputs": [
        {
          "output_type": "execute_result",
          "data": {
            "text/plain": [
              "PCA(n_components=2)"
            ]
          },
          "metadata": {},
          "execution_count": 159
        }
      ],
      "source": [
        "from sklearn.decomposition import PCA\n",
        "pca = PCA(n_components=2)\n",
        "pca.fit(scaled_data)"
      ]
    },
    {
      "cell_type": "markdown",
      "metadata": {
        "id": "OuEwoLdKFrra"
      },
      "source": [
        "Now we can transform this data to its first 2 principal components."
      ]
    },
    {
      "cell_type": "code",
      "execution_count": 160,
      "metadata": {
        "collapsed": true,
        "id": "qB6zk7koFrrb"
      },
      "outputs": [],
      "source": [
        "x_pca = pca.transform(scaled_data)"
      ]
    },
    {
      "cell_type": "code",
      "execution_count": 161,
      "metadata": {
        "colab": {
          "base_uri": "https://localhost:8080/"
        },
        "id": "OmpG5YL3Frrb",
        "outputId": "ca12ff9a-938b-4e7c-a398-f97d7133d929"
      },
      "outputs": [
        {
          "output_type": "execute_result",
          "data": {
            "text/plain": [
              "(569, 30)"
            ]
          },
          "metadata": {},
          "execution_count": 161
        }
      ],
      "source": [
        "scaled_data.shape"
      ]
    },
    {
      "cell_type": "code",
      "execution_count": 162,
      "metadata": {
        "colab": {
          "base_uri": "https://localhost:8080/"
        },
        "id": "fW5SPA7_Frrc",
        "outputId": "cf3808e6-ee4b-41d1-c596-9d8fdd0e6be4"
      },
      "outputs": [
        {
          "output_type": "execute_result",
          "data": {
            "text/plain": [
              "(569, 2)"
            ]
          },
          "metadata": {},
          "execution_count": 162
        }
      ],
      "source": [
        "x_pca.shape"
      ]
    },
    {
      "cell_type": "markdown",
      "metadata": {
        "id": "f2JOf3q7Frrc"
      },
      "source": [
        "Great! We've reduced 30 dimensions to just 2! Let's plot these two dimensions out!"
      ]
    },
    {
      "cell_type": "code",
      "execution_count": 163,
      "metadata": {
        "colab": {
          "base_uri": "https://localhost:8080/",
          "height": 405
        },
        "id": "Q3RTJ4G2Frrd",
        "outputId": "95d30164-11ee-40f2-cfe6-4dbfe1cb3c01"
      },
      "outputs": [
        {
          "output_type": "execute_result",
          "data": {
            "text/plain": [
              "Text(0, 0.5, 'Second Principal Component')"
            ]
          },
          "metadata": {},
          "execution_count": 163
        },
        {
          "output_type": "display_data",
          "data": {
            "text/plain": [
              "<Figure size 576x432 with 1 Axes>"
            ],
            "image/png": "[encoded data removed]"
          },
          "metadata": {
            "needs_background": "light"
          }
        }
      ],
      "source": [
        "plt.figure(figsize=(8,6))\n",
        "plt.grid()\n",
        "plt.scatter(x_pca[:,0],x_pca[:,1],c=cancer['target'],cmap='plasma')\n",
        "plt.xlabel('First principal component')\n",
        "plt.ylabel('Second Principal Component')"
      ]
    },
    {
      "cell_type": "markdown",
      "metadata": {
        "id": "zTtROA4UFrrd"
      },
      "source": [
        "Clearly by using these two components we can easily separate these two classes.\n",
        "\n",
        "## Interpreting the components \n",
        "\n",
        "Unfortunately, with this great power of dimensionality reduction, comes the cost of being able to easily understand what these components represent.\n",
        "\n",
        "The components correspond to combinations of the original features, the components themselves are stored as an attribute of the fitted PCA object:"
      ]
    },
    {
      "cell_type": "code",
      "execution_count": 164,
      "metadata": {
        "colab": {
          "base_uri": "https://localhost:8080/"
        },
        "id": "dAHauvZFFrre",
        "outputId": "0106cb29-92b0-4028-c4ed-dc74e82dbf0e"
      },
      "outputs": [
        {
          "output_type": "execute_result",
          "data": {
            "text/plain": [
              "array([[ 0.21890244,  0.10372458,  0.22753729,  0.22099499,  0.14258969,\n",
              "         0.23928535,  0.25840048,  0.26085376,  0.13816696,  0.06436335,\n",
              "         0.20597878,  0.01742803,  0.21132592,  0.20286964,  0.01453145,\n",
              "         0.17039345,  0.15358979,  0.1834174 ,  0.04249842,  0.10256832,\n",
              "         0.22799663,  0.10446933,  0.23663968,  0.22487053,  0.12795256,\n",
              "         0.21009588,  0.22876753,  0.25088597,  0.12290456,  0.13178394],\n",
              "       [-0.23385713, -0.05970609, -0.21518136, -0.23107671,  0.18611302,\n",
              "         0.15189161,  0.06016536, -0.0347675 ,  0.19034877,  0.36657547,\n",
              "        -0.10555215,  0.08997968, -0.08945723, -0.15229263,  0.20443045,\n",
              "         0.2327159 ,  0.19720728,  0.13032156,  0.183848  ,  0.28009203,\n",
              "        -0.21986638, -0.0454673 , -0.19987843, -0.21935186,  0.17230435,\n",
              "         0.14359317,  0.09796411, -0.00825724,  0.14188335,  0.27533947]])"
            ]
          },
          "metadata": {},
          "execution_count": 164
        }
      ],
      "source": [
        "pca.components_"
      ]
    },
    {
      "cell_type": "code",
      "source": [
        "a= pca.components_[0]\n",
        "np.linalg.norm(a)"
      ],
      "metadata": {
        "colab": {
          "base_uri": "https://localhost:8080/"
        },
        "id": "XroKbI8iKva3",
        "outputId": "a6427856-8a6f-47be-ca43-8a37947f0573"
      },
      "execution_count": 165,
      "outputs": [
        {
          "output_type": "execute_result",
          "data": {
            "text/plain": [
              "0.9999999999999992"
            ]
          },
          "metadata": {},
          "execution_count": 165
        }
      ]
    },
    {
      "cell_type": "code",
      "source": [
        "# Percentage of variance explained by each of the selected components.\n",
        "pca.explained_variance_ratio_"
      ],
      "metadata": {
        "colab": {
          "base_uri": "https://localhost:8080/"
        },
        "id": "FeE6mz4cJRpu",
        "outputId": "dd183fff-e9ec-42b4-8f3a-e78e53ec81c0"
      },
      "execution_count": 166,
      "outputs": [
        {
          "output_type": "execute_result",
          "data": {
            "text/plain": [
              "array([0.44272026, 0.18971182])"
            ]
          },
          "metadata": {},
          "execution_count": 166
        }
      ]
    },
    {
      "cell_type": "code",
      "source": [
        "#  The singular values are equal to the 2-norms of the n_components variables in the lower-dimensional space\n",
        "pca.singular_values_"
      ],
      "metadata": {
        "colab": {
          "base_uri": "https://localhost:8080/"
        },
        "id": "H24vm7s5LUSp",
        "outputId": "16306d90-0c64-4015-dc37-fbb66e104899"
      },
      "execution_count": 167,
      "outputs": [
        {
          "output_type": "execute_result",
          "data": {
            "text/plain": [
              "array([86.93235745, 56.90677266])"
            ]
          },
          "metadata": {},
          "execution_count": 167
        }
      ]
    },
    {
      "cell_type": "markdown",
      "metadata": {
        "id": "Hu2BZYACFrrf"
      },
      "source": [
        "In this numpy matrix array, each row represents a principal component, and each column relates back to the original features. we can visualize this relationship with a heatmap:"
      ]
    },
    {
      "cell_type": "code",
      "execution_count": 168,
      "metadata": {
        "collapsed": true,
        "id": "K8i3eL-yFrrf"
      },
      "outputs": [],
      "source": [
        "df_comp = pd.DataFrame(pca.components_,columns=cancer['feature_names'])"
      ]
    },
    {
      "cell_type": "code",
      "execution_count": 169,
      "metadata": {
        "colab": {
          "base_uri": "https://localhost:8080/",
          "height": 500
        },
        "id": "E5otq4e6Frrf",
        "outputId": "d7e2a315-109a-46d7-d7b7-b9a987060d09"
      },
      "outputs": [
        {
          "output_type": "execute_result",
          "data": {
            "text/plain": [
              "<matplotlib.axes._subplots.AxesSubplot at 0x7f620b822390>"
            ]
          },
          "metadata": {},
          "execution_count": 169
        },
        {
          "output_type": "display_data",
          "data": {
            "text/plain": [
              "<Figure size 864x432 with 2 Axes>"
            ],
            "image/png": "[encoded data removed]"
          },
          "metadata": {
            "needs_background": "light"
          }
        }
      ],
      "source": [
        "plt.figure(figsize=(12,6))\n",
        "sns.heatmap(df_comp,cmap='plasma',)"
      ]
    }
  ],
  "metadata": {
    "kernelspec": {
      "display_name": "Python 3",
      "language": "python",
      "name": "python3"
    },
    "language_info": {
      "codemirror_mode": {
        "name": "ipython",
        "version": 3
      },
      "file_extension": ".py",
      "mimetype": "text/x-python",
      "name": "python",
      "nbconvert_exporter": "python",
      "pygments_lexer": "ipython3",
      "version": "3.7.1"
    },
    "colab": {
      "provenance": [],
      "collapsed_sections": [],
      "include_colab_link": true
    }
  },
  "nbformat": 4,
  "nbformat_minor": 0
}